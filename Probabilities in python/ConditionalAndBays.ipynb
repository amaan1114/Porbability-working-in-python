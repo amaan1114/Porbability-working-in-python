{
 "cells": [
  {
   "cell_type": "code",
   "execution_count": 3,
   "id": "cf9dfae8",
   "metadata": {},
   "outputs": [
    {
     "name": "stdout",
     "output_type": "stream",
     "text": [
      "probability of red if previous ball is blue =  0.228287841191067\n",
      "Baye's theorem to find P(B|R)=  0.368\n",
      "Probability of P(B|R) using simulation if the baye's theorem ans and this ans is almost similar than it is varified  0.368\n"
     ]
    }
   ],
   "source": [
    "import random\n",
    "#Conditional Probability and Bayes' Theorem\n",
    "\n",
    "#A bag contains 5 red, 7 green, and 8 blue balls. A ball is drawn randomly, its color noted, and it is put back into the bag. If this process is repeated 1000 times, write a Python program to estimate:  \n",
    " # a. The probability of drawing a red ball given that the previous ball was blue.  \n",
    " # b. Verify Bayes' theorem with the simulation results\n",
    "\n",
    "\n",
    "#1 represent the red balls, 2 represent the green balls and 3 represent the blue balls.\n",
    "bag = [1,1,1,1,1,2,2,2,2,2,2,2,3,3,3,3,3,3,3,3]\n",
    "previouseball=random.sample(bag,1)\n",
    "predafterblue=0\n",
    "preblue = 0\n",
    "redballs=0\n",
    "pblueafterred=0\n",
    "prered= 0\n",
    "for i in range(1000):\n",
    "    currentball = random.sample(bag,1)\n",
    "\n",
    "\n",
    "    # Calculation to verify baye's\n",
    "    if(1 in previouseball):\n",
    "        prered+=1\n",
    "        #calculating if after the previous ball the new ball is blue\n",
    "        if(3 in currentball):\n",
    "            pblueafterred+=1\n",
    "   \n",
    "    if(1 in currentball):\n",
    "        redballs+=1\n",
    "\n",
    "    #Calcuation for P(R|B)\n",
    "    #calculating if the previous ball is blue\n",
    "    if(3 in previouseball):\n",
    "        preblue+=1\n",
    "        #calculating if after the previous ball the new ball is red\n",
    "        if(1 in currentball):\n",
    "            predafterblue+=1\n",
    "    previouseball=currentball\n",
    "\n",
    "    \n",
    "#now we want to calculate probability of red if previous ball is blue P(R|B)\n",
    "if(preblue==0):\n",
    "    print(\"probability of red if previous ball is blue =\", 0)\n",
    "else:\n",
    "    prb = predafterblue/preblue\n",
    "    print(\"probability of red if previous ball is blue = \",prb)\n",
    "\n",
    "\n",
    "\n",
    "# baye's theorem states that if we have P(R|B) we can find P(B|R) also by formula [P(R|B)*P(B)]/P(R)\n",
    "pbr = (prb*(preblue/1000))/(redballs/1000)\n",
    "print(\"Baye's theorem to find P(B|R)= \",pbr)\n",
    "\n",
    "#Now to varify baye's we will calculate by simulation\n",
    "\n",
    "    \n",
    "if(prered!=0):\n",
    "    pbr2=pblueafterred/prered\n",
    "print(\"Probability of P(B|R) using simulation if the baye's theorem ans and this ans is almost similar than it is varified \",pbr2)\n",
    "\n",
    "\n",
    "\n",
    "\n"
   ]
  }
 ],
 "metadata": {
  "kernelspec": {
   "display_name": "Python 3",
   "language": "python",
   "name": "python3"
  },
  "language_info": {
   "codemirror_mode": {
    "name": "ipython",
    "version": 3
   },
   "file_extension": ".py",
   "mimetype": "text/x-python",
   "name": "python",
   "nbconvert_exporter": "python",
   "pygments_lexer": "ipython3",
   "version": "3.9.0"
  }
 },
 "nbformat": 4,
 "nbformat_minor": 5
}
