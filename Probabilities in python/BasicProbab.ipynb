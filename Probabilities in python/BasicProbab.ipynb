{
 "cells": [
  {
   "cell_type": "code",
   "execution_count": null,
   "id": "786e9531",
   "metadata": {},
   "outputs": [
    {
     "name": "stdout",
     "output_type": "stream",
     "text": [
      "Probability of tails =  0.4977\n",
      "Probability of heads =  0.5023\n",
      "Probability of getting sum of seven from two dices out of 10,000 trial is =  0.1656\n"
     ]
    }
   ],
   "source": [
    "import random\n",
    "#Basics of probability \n",
    " # a. Tossing a coin 10,000 times and calculating the experimental probability of heads and tails.  \n",
    " # b. Rolling two dice 10,000 times  and computing the probability of getting a sum of 7.\n",
    " \n",
    "#a\n",
    "heads=0\n",
    "tails=0\n",
    "for i in range(10000):\n",
    "    toss = round((random.uniform(0,1)))\n",
    "    if(toss==1):\n",
    "        #Calculating total outcomes of heads\n",
    "        heads+=1\n",
    "    else:\n",
    "        #Calculating total outcomes of tails\n",
    "        tails +=1\n",
    "#Calculating probabilty of getting heads and tails.\n",
    "print(\"Probability of tails = \", tails/10000)\n",
    "print(\"Probability of heads = \",heads/10000)\n",
    "\n",
    "#Explanation as we know the probability of something is the no. of fav outcomes/total no. of outcomes \n",
    "\n",
    "\n",
    "#b\n",
    "sumseven=0\n",
    "for i in range(10000):\n",
    "    die1 = random.randint(1,6)\n",
    "    die2 = random.randint(1,6) \n",
    "    sum=die1 +die2\n",
    "    if sum==7:\n",
    "        #Calculating outcomes where sum is 7\n",
    "        sumseven+=1\n",
    "\n",
    "print(\"Probability of getting sum of seven from two dices out of 10,000 trial is = \",sumseven/10000)\n",
    "#By same logic as above one."
   ]
  },
  {
   "cell_type": "code",
   "execution_count": 188,
   "id": "21402afc",
   "metadata": {},
   "outputs": [
    {
     "name": "stdout",
     "output_type": "stream",
     "text": [
      "probability of getting at least one 6 in 10 rolls of a fair die is = 0.835\n"
     ]
    }
   ],
   "source": [
    "#2. Write a function to estimate the probability of getting at least one \"6\" in 10 rolls of a fair die.  \n",
    "def probability_of_six():\n",
    "    six=0\n",
    "    for k in range(10000):\n",
    "        sixget=False\n",
    "        for i in range(10):\n",
    "            roll = random.randint(1,6)\n",
    "            if roll == 6:\n",
    "                sixget=True\n",
    "                break\n",
    "        if(sixget):\n",
    "            six+=1\n",
    "    print(\"probability of getting at least one 6 in 10 rolls of a fair die is =\",six/10000)\n",
    "probability_of_six()   \n",
    "# Here it was given that we have to find getting at least one 6 in 10 rolls so we took 10,000 trials and rolled dice 10 times in each trial the moment we get six\n",
    "# the condition satisfied and we break out and increase the success than calculated the probability using basic probability formula.\n",
    " "
   ]
  }
 ],
 "metadata": {
  "kernelspec": {
   "display_name": "Python 3",
   "language": "python",
   "name": "python3"
  },
  "language_info": {
   "codemirror_mode": {
    "name": "ipython",
    "version": 3
   },
   "file_extension": ".py",
   "mimetype": "text/x-python",
   "name": "python",
   "nbconvert_exporter": "python",
   "pygments_lexer": "ipython3",
   "version": "3.9.0"
  }
 },
 "nbformat": 4,
 "nbformat_minor": 5
}
